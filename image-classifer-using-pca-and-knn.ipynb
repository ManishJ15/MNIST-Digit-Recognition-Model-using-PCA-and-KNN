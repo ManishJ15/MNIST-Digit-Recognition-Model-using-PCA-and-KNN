{
 "cells": [
  {
   "cell_type": "code",
   "execution_count": 1,
   "id": "b8764877",
   "metadata": {
    "execution": {
     "iopub.execute_input": "2023-11-07T10:54:22.855209Z",
     "iopub.status.busy": "2023-11-07T10:54:22.854672Z",
     "iopub.status.idle": "2023-11-07T10:54:24.608955Z",
     "shell.execute_reply": "2023-11-07T10:54:24.607759Z"
    },
    "papermill": {
     "duration": 1.764287,
     "end_time": "2023-11-07T10:54:24.611951",
     "exception": false,
     "start_time": "2023-11-07T10:54:22.847664",
     "status": "completed"
    },
    "tags": []
   },
   "outputs": [],
   "source": [
    "import pandas as pd\n",
    "import numpy as np\n",
    "from sklearn.metrics import accuracy_score"
   ]
  },
  {
   "cell_type": "code",
   "execution_count": 2,
   "id": "848da3ab",
   "metadata": {
    "execution": {
     "iopub.execute_input": "2023-11-07T10:54:24.624955Z",
     "iopub.status.busy": "2023-11-07T10:54:24.624406Z",
     "iopub.status.idle": "2023-11-07T10:54:28.950987Z",
     "shell.execute_reply": "2023-11-07T10:54:28.949960Z"
    },
    "papermill": {
     "duration": 4.335399,
     "end_time": "2023-11-07T10:54:28.953872",
     "exception": false,
     "start_time": "2023-11-07T10:54:24.618473",
     "status": "completed"
    },
    "tags": []
   },
   "outputs": [],
   "source": [
    "df= pd.read_csv('/kaggle/input/digit-recognizer/train.csv')"
   ]
  },
  {
   "cell_type": "code",
   "execution_count": 3,
   "id": "252875ba",
   "metadata": {
    "execution": {
     "iopub.execute_input": "2023-11-07T10:54:28.964809Z",
     "iopub.status.busy": "2023-11-07T10:54:28.964328Z",
     "iopub.status.idle": "2023-11-07T10:54:28.994753Z",
     "shell.execute_reply": "2023-11-07T10:54:28.993649Z"
    },
    "papermill": {
     "duration": 0.039335,
     "end_time": "2023-11-07T10:54:28.997778",
     "exception": false,
     "start_time": "2023-11-07T10:54:28.958443",
     "status": "completed"
    },
    "tags": []
   },
   "outputs": [
    {
     "data": {
      "text/html": [
       "<div>\n",
       "<style scoped>\n",
       "    .dataframe tbody tr th:only-of-type {\n",
       "        vertical-align: middle;\n",
       "    }\n",
       "\n",
       "    .dataframe tbody tr th {\n",
       "        vertical-align: top;\n",
       "    }\n",
       "\n",
       "    .dataframe thead th {\n",
       "        text-align: right;\n",
       "    }\n",
       "</style>\n",
       "<table border=\"1\" class=\"dataframe\">\n",
       "  <thead>\n",
       "    <tr style=\"text-align: right;\">\n",
       "      <th></th>\n",
       "      <th>label</th>\n",
       "      <th>pixel0</th>\n",
       "      <th>pixel1</th>\n",
       "      <th>pixel2</th>\n",
       "      <th>pixel3</th>\n",
       "      <th>pixel4</th>\n",
       "      <th>pixel5</th>\n",
       "      <th>pixel6</th>\n",
       "      <th>pixel7</th>\n",
       "      <th>pixel8</th>\n",
       "      <th>...</th>\n",
       "      <th>pixel774</th>\n",
       "      <th>pixel775</th>\n",
       "      <th>pixel776</th>\n",
       "      <th>pixel777</th>\n",
       "      <th>pixel778</th>\n",
       "      <th>pixel779</th>\n",
       "      <th>pixel780</th>\n",
       "      <th>pixel781</th>\n",
       "      <th>pixel782</th>\n",
       "      <th>pixel783</th>\n",
       "    </tr>\n",
       "  </thead>\n",
       "  <tbody>\n",
       "    <tr>\n",
       "      <th>0</th>\n",
       "      <td>1</td>\n",
       "      <td>0</td>\n",
       "      <td>0</td>\n",
       "      <td>0</td>\n",
       "      <td>0</td>\n",
       "      <td>0</td>\n",
       "      <td>0</td>\n",
       "      <td>0</td>\n",
       "      <td>0</td>\n",
       "      <td>0</td>\n",
       "      <td>...</td>\n",
       "      <td>0</td>\n",
       "      <td>0</td>\n",
       "      <td>0</td>\n",
       "      <td>0</td>\n",
       "      <td>0</td>\n",
       "      <td>0</td>\n",
       "      <td>0</td>\n",
       "      <td>0</td>\n",
       "      <td>0</td>\n",
       "      <td>0</td>\n",
       "    </tr>\n",
       "    <tr>\n",
       "      <th>1</th>\n",
       "      <td>0</td>\n",
       "      <td>0</td>\n",
       "      <td>0</td>\n",
       "      <td>0</td>\n",
       "      <td>0</td>\n",
       "      <td>0</td>\n",
       "      <td>0</td>\n",
       "      <td>0</td>\n",
       "      <td>0</td>\n",
       "      <td>0</td>\n",
       "      <td>...</td>\n",
       "      <td>0</td>\n",
       "      <td>0</td>\n",
       "      <td>0</td>\n",
       "      <td>0</td>\n",
       "      <td>0</td>\n",
       "      <td>0</td>\n",
       "      <td>0</td>\n",
       "      <td>0</td>\n",
       "      <td>0</td>\n",
       "      <td>0</td>\n",
       "    </tr>\n",
       "    <tr>\n",
       "      <th>2</th>\n",
       "      <td>1</td>\n",
       "      <td>0</td>\n",
       "      <td>0</td>\n",
       "      <td>0</td>\n",
       "      <td>0</td>\n",
       "      <td>0</td>\n",
       "      <td>0</td>\n",
       "      <td>0</td>\n",
       "      <td>0</td>\n",
       "      <td>0</td>\n",
       "      <td>...</td>\n",
       "      <td>0</td>\n",
       "      <td>0</td>\n",
       "      <td>0</td>\n",
       "      <td>0</td>\n",
       "      <td>0</td>\n",
       "      <td>0</td>\n",
       "      <td>0</td>\n",
       "      <td>0</td>\n",
       "      <td>0</td>\n",
       "      <td>0</td>\n",
       "    </tr>\n",
       "    <tr>\n",
       "      <th>3</th>\n",
       "      <td>4</td>\n",
       "      <td>0</td>\n",
       "      <td>0</td>\n",
       "      <td>0</td>\n",
       "      <td>0</td>\n",
       "      <td>0</td>\n",
       "      <td>0</td>\n",
       "      <td>0</td>\n",
       "      <td>0</td>\n",
       "      <td>0</td>\n",
       "      <td>...</td>\n",
       "      <td>0</td>\n",
       "      <td>0</td>\n",
       "      <td>0</td>\n",
       "      <td>0</td>\n",
       "      <td>0</td>\n",
       "      <td>0</td>\n",
       "      <td>0</td>\n",
       "      <td>0</td>\n",
       "      <td>0</td>\n",
       "      <td>0</td>\n",
       "    </tr>\n",
       "    <tr>\n",
       "      <th>4</th>\n",
       "      <td>0</td>\n",
       "      <td>0</td>\n",
       "      <td>0</td>\n",
       "      <td>0</td>\n",
       "      <td>0</td>\n",
       "      <td>0</td>\n",
       "      <td>0</td>\n",
       "      <td>0</td>\n",
       "      <td>0</td>\n",
       "      <td>0</td>\n",
       "      <td>...</td>\n",
       "      <td>0</td>\n",
       "      <td>0</td>\n",
       "      <td>0</td>\n",
       "      <td>0</td>\n",
       "      <td>0</td>\n",
       "      <td>0</td>\n",
       "      <td>0</td>\n",
       "      <td>0</td>\n",
       "      <td>0</td>\n",
       "      <td>0</td>\n",
       "    </tr>\n",
       "  </tbody>\n",
       "</table>\n",
       "<p>5 rows × 785 columns</p>\n",
       "</div>"
      ],
      "text/plain": [
       "   label  pixel0  pixel1  pixel2  pixel3  pixel4  pixel5  pixel6  pixel7  \\\n",
       "0      1       0       0       0       0       0       0       0       0   \n",
       "1      0       0       0       0       0       0       0       0       0   \n",
       "2      1       0       0       0       0       0       0       0       0   \n",
       "3      4       0       0       0       0       0       0       0       0   \n",
       "4      0       0       0       0       0       0       0       0       0   \n",
       "\n",
       "   pixel8  ...  pixel774  pixel775  pixel776  pixel777  pixel778  pixel779  \\\n",
       "0       0  ...         0         0         0         0         0         0   \n",
       "1       0  ...         0         0         0         0         0         0   \n",
       "2       0  ...         0         0         0         0         0         0   \n",
       "3       0  ...         0         0         0         0         0         0   \n",
       "4       0  ...         0         0         0         0         0         0   \n",
       "\n",
       "   pixel780  pixel781  pixel782  pixel783  \n",
       "0         0         0         0         0  \n",
       "1         0         0         0         0  \n",
       "2         0         0         0         0  \n",
       "3         0         0         0         0  \n",
       "4         0         0         0         0  \n",
       "\n",
       "[5 rows x 785 columns]"
      ]
     },
     "execution_count": 3,
     "metadata": {},
     "output_type": "execute_result"
    }
   ],
   "source": [
    "df.head()"
   ]
  },
  {
   "cell_type": "code",
   "execution_count": 4,
   "id": "ee908b93",
   "metadata": {
    "execution": {
     "iopub.execute_input": "2023-11-07T10:54:29.009204Z",
     "iopub.status.busy": "2023-11-07T10:54:29.008815Z",
     "iopub.status.idle": "2023-11-07T10:54:29.138707Z",
     "shell.execute_reply": "2023-11-07T10:54:29.137273Z"
    },
    "papermill": {
     "duration": 0.139193,
     "end_time": "2023-11-07T10:54:29.141766",
     "exception": false,
     "start_time": "2023-11-07T10:54:29.002573",
     "status": "completed"
    },
    "tags": []
   },
   "outputs": [],
   "source": [
    "x= df.drop(columns='label')\n",
    "y= df['label']"
   ]
  },
  {
   "cell_type": "code",
   "execution_count": 5,
   "id": "33abdc41",
   "metadata": {
    "execution": {
     "iopub.execute_input": "2023-11-07T10:54:29.153776Z",
     "iopub.status.busy": "2023-11-07T10:54:29.153033Z",
     "iopub.status.idle": "2023-11-07T10:54:29.418631Z",
     "shell.execute_reply": "2023-11-07T10:54:29.417556Z"
    },
    "papermill": {
     "duration": 0.274424,
     "end_time": "2023-11-07T10:54:29.421305",
     "exception": false,
     "start_time": "2023-11-07T10:54:29.146881",
     "status": "completed"
    },
    "tags": []
   },
   "outputs": [],
   "source": [
    "from sklearn.model_selection import train_test_split\n",
    "x_train, x_test, y_train, y_test= train_test_split(x, y, test_size=0.2, random_state=42)"
   ]
  },
  {
   "cell_type": "code",
   "execution_count": 6,
   "id": "b90144bd",
   "metadata": {
    "execution": {
     "iopub.execute_input": "2023-11-07T10:54:29.444113Z",
     "iopub.status.busy": "2023-11-07T10:54:29.443281Z",
     "iopub.status.idle": "2023-11-07T10:54:29.451233Z",
     "shell.execute_reply": "2023-11-07T10:54:29.450324Z"
    },
    "papermill": {
     "duration": 0.028922,
     "end_time": "2023-11-07T10:54:29.455866",
     "exception": false,
     "start_time": "2023-11-07T10:54:29.426944",
     "status": "completed"
    },
    "tags": []
   },
   "outputs": [
    {
     "data": {
      "text/plain": [
       "(33600, 784)"
      ]
     },
     "execution_count": 6,
     "metadata": {},
     "output_type": "execute_result"
    }
   ],
   "source": [
    "x_train.shape"
   ]
  },
  {
   "cell_type": "code",
   "execution_count": 7,
   "id": "2226d797",
   "metadata": {
    "execution": {
     "iopub.execute_input": "2023-11-07T10:54:29.473870Z",
     "iopub.status.busy": "2023-11-07T10:54:29.472733Z",
     "iopub.status.idle": "2023-11-07T10:54:29.802218Z",
     "shell.execute_reply": "2023-11-07T10:54:29.800620Z"
    },
    "papermill": {
     "duration": 0.341016,
     "end_time": "2023-11-07T10:54:29.805189",
     "exception": false,
     "start_time": "2023-11-07T10:54:29.464173",
     "status": "completed"
    },
    "tags": []
   },
   "outputs": [],
   "source": [
    "from sklearn.neighbors import KNeighborsClassifier"
   ]
  },
  {
   "cell_type": "code",
   "execution_count": 8,
   "id": "59fb2774",
   "metadata": {
    "execution": {
     "iopub.execute_input": "2023-11-07T10:54:29.817811Z",
     "iopub.status.busy": "2023-11-07T10:54:29.816741Z",
     "iopub.status.idle": "2023-11-07T10:54:29.821367Z",
     "shell.execute_reply": "2023-11-07T10:54:29.820516Z"
    },
    "papermill": {
     "duration": 0.01371,
     "end_time": "2023-11-07T10:54:29.824077",
     "exception": false,
     "start_time": "2023-11-07T10:54:29.810367",
     "status": "completed"
    },
    "tags": []
   },
   "outputs": [],
   "source": [
    "knn= KNeighborsClassifier()"
   ]
  },
  {
   "cell_type": "code",
   "execution_count": 9,
   "id": "7ac6a35d",
   "metadata": {
    "execution": {
     "iopub.execute_input": "2023-11-07T10:54:29.840077Z",
     "iopub.status.busy": "2023-11-07T10:54:29.839459Z",
     "iopub.status.idle": "2023-11-07T10:54:30.350496Z",
     "shell.execute_reply": "2023-11-07T10:54:30.349525Z"
    },
    "papermill": {
     "duration": 0.521729,
     "end_time": "2023-11-07T10:54:30.353026",
     "exception": false,
     "start_time": "2023-11-07T10:54:29.831297",
     "status": "completed"
    },
    "tags": []
   },
   "outputs": [],
   "source": [
    "from sklearn.preprocessing import StandardScaler\n",
    "sts= StandardScaler()\n",
    "x_train= sts.fit_transform(x_train)\n",
    "x_test=sts.transform(x_test)\n",
    "from sklearn.decomposition import PCA"
   ]
  },
  {
   "cell_type": "code",
   "execution_count": 10,
   "id": "7a3bf736",
   "metadata": {
    "execution": {
     "iopub.execute_input": "2023-11-07T10:54:30.365401Z",
     "iopub.status.busy": "2023-11-07T10:54:30.364488Z",
     "iopub.status.idle": "2023-11-07T10:54:35.010687Z",
     "shell.execute_reply": "2023-11-07T10:54:35.009345Z"
    },
    "papermill": {
     "duration": 4.655265,
     "end_time": "2023-11-07T10:54:35.013315",
     "exception": false,
     "start_time": "2023-11-07T10:54:30.358050",
     "status": "completed"
    },
    "tags": []
   },
   "outputs": [
    {
     "name": "stdout",
     "output_type": "stream",
     "text": [
      "0.9448809523809524\n"
     ]
    }
   ],
   "source": [
    "pca = PCA(n_components= 20) \n",
    "x_train_trf= pca.fit_transform(x_train)\n",
    "x_test_trf= pca.transform(x_test)\n",
    "knn.fit(x_train_trf, y_train)\n",
    "y_pred= knn.predict(x_test_trf)\n",
    "print(accuracy_score(y_test, y_pred))"
   ]
  },
  {
   "cell_type": "code",
   "execution_count": null,
   "id": "cfb05160",
   "metadata": {
    "papermill": {
     "duration": 0.004705,
     "end_time": "2023-11-07T10:54:35.023123",
     "exception": false,
     "start_time": "2023-11-07T10:54:35.018418",
     "status": "completed"
    },
    "tags": []
   },
   "outputs": [],
   "source": []
  }
 ],
 "metadata": {
  "kernelspec": {
   "display_name": "Python 3",
   "language": "python",
   "name": "python3"
  },
  "language_info": {
   "codemirror_mode": {
    "name": "ipython",
    "version": 3
   },
   "file_extension": ".py",
   "mimetype": "text/x-python",
   "name": "python",
   "nbconvert_exporter": "python",
   "pygments_lexer": "ipython3",
   "version": "3.10.12"
  },
  "papermill": {
   "default_parameters": {},
   "duration": 16.544501,
   "end_time": "2023-11-07T10:54:35.650132",
   "environment_variables": {},
   "exception": null,
   "input_path": "__notebook__.ipynb",
   "output_path": "__notebook__.ipynb",
   "parameters": {},
   "start_time": "2023-11-07T10:54:19.105631",
   "version": "2.4.0"
  }
 },
 "nbformat": 4,
 "nbformat_minor": 5
}
